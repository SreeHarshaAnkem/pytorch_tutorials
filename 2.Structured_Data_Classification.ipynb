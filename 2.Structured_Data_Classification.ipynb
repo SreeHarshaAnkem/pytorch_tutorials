{
 "cells": [
  {
   "cell_type": "code",
   "execution_count": 155,
   "metadata": {},
   "outputs": [],
   "source": [
    "import pandas as pd\n",
    "import numpy as np\n",
    "import torch\n",
    "from torch.utils.data import Dataset, DataLoader, random_split"
   ]
  },
  {
   "cell_type": "code",
   "execution_count": 156,
   "metadata": {},
   "outputs": [],
   "source": [
    "data_path = \"/Users/sreeharshaankem/MachineLearning/deployment/iris_species_prediction/data/\""
   ]
  },
  {
   "cell_type": "markdown",
   "metadata": {},
   "source": [
    "# Data Preparation"
   ]
  },
  {
   "cell_type": "code",
   "execution_count": 157,
   "metadata": {},
   "outputs": [],
   "source": [
    "class IrisDatasetProcessing(Dataset):\n",
    "    def __init__(self, data_path, feature_cols, target):\n",
    "        self.feature_cols = feature_cols\n",
    "        self.target = target\n",
    "        self.df = pd.read_csv(data_path+\"iris.data\", \n",
    "                              names = self.feature_cols+[self.target])\n",
    "        self.X, self.y = self.__preprocess()\n",
    "    \n",
    "    def __len__(self):\n",
    "        return self.df.shape[0]\n",
    "    \n",
    "    def __getitem__(self, idx):\n",
    "        np_subset = self.X[idx]\n",
    "        np_label = self.y[idx]\n",
    "        return np_subset, np_label\n",
    "    \n",
    "    def __preprocess(self):\n",
    "        self.df.loc[:, self.target] = self.df.loc[:, self.target].map({\"Iris-setosa\":0,\n",
    "                                                                       \"Iris-versicolor\":1,\n",
    "                                                                       \"Iris-virginica\":2})\n",
    "        self.df.loc[:, self.feature_cols] /= self.df.loc[:, self.feature_cols].max(axis = 0)\n",
    "        return self.df.loc[:, self.feature_cols].values, self.df.loc[:,self.target].values"
   ]
  },
  {
   "cell_type": "code",
   "execution_count": 158,
   "metadata": {},
   "outputs": [],
   "source": [
    "dataset = IrisDatasetProcessing(data_path = data_path,\n",
    "                             feature_cols = ['s_l', 's_w', 'p_l', 'p_w'],\n",
    "                             target = \"species\")\n",
    "train, test = random_split(dataset, lengths = (100, 50))\n",
    "train_dataloader = DataLoader(train, batch_size=32, shuffle=True)"
   ]
  },
  {
   "cell_type": "markdown",
   "metadata": {},
   "source": [
    "# Model Building"
   ]
  },
  {
   "cell_type": "code",
   "execution_count": 159,
   "metadata": {},
   "outputs": [],
   "source": [
    "from torch import nn\n",
    "from torch.optim import SGD, Adam"
   ]
  },
  {
   "cell_type": "code",
   "execution_count": 160,
   "metadata": {},
   "outputs": [],
   "source": [
    "model = nn.Sequential(\n",
    "             nn.Linear(in_features=4, out_features=64),\n",
    "             nn.ReLU(),\n",
    "             nn.Linear(in_features=64, out_features=20),\n",
    "             nn.ReLU(),\n",
    "             nn.Linear(in_features=20, out_features=3),\n",
    "             nn.Softmax(dim=1))\n",
    "criterion = nn.CrossEntropyLoss()\n",
    "optimizer = Adam(params = model.parameters(), lr=1e-3)          "
   ]
  },
  {
   "cell_type": "code",
   "execution_count": 161,
   "metadata": {},
   "outputs": [
    {
     "name": "stdout",
     "output_type": "stream",
     "text": [
      "0 1.114733338356018\n",
      "1000 0.733482837677002\n",
      "2000 0.5514465570449829\n",
      "3000 0.5514482259750366\n",
      "4000 0.5514446496963501\n",
      "5000 0.8014401197433472\n",
      "6000 0.5514446496963501\n",
      "7000 0.5514446496963501\n",
      "8000 0.5514776110649109\n",
      "9000 0.5514446496963501\n"
     ]
    }
   ],
   "source": [
    "epochs = 10000\n",
    "for epoch in range(epochs):\n",
    "    for batch_idx , (X, y) in enumerate(train_dataloader):\n",
    "        optimizer.zero_grad()\n",
    "        y_pred = model(X.float())\n",
    "        loss = criterion(y_pred, y)\n",
    "        loss.backward()\n",
    "        optimizer.step()\n",
    "    if epoch%(epochs//10)==0:\n",
    "        print(epoch, loss.item())"
   ]
  },
  {
   "cell_type": "markdown",
   "metadata": {},
   "source": [
    "# Get Predictions"
   ]
  },
  {
   "cell_type": "code",
   "execution_count": 162,
   "metadata": {},
   "outputs": [],
   "source": [
    "test_dataloader = DataLoader(test, batch_size=50, shuffle=False)\n",
    "\n",
    "for batch_idx, (test_X, test_y) in enumerate(test_dataloader):\n",
    "    test_y_pred = model(test_X.float())\n",
    "\n",
    "confidence, pred_class = torch.max(test_y_pred, dim=1)\n",
    "\n",
    "df_predictions = pd.DataFrame([confidence.data.numpy(), \n",
    "                               pred_class.data.numpy()]).T\n",
    "df_predictions.columns = [\"confidence\", \"predicted\"]"
   ]
  },
  {
   "cell_type": "markdown",
   "metadata": {},
   "source": [
    "# Metrics"
   ]
  },
  {
   "cell_type": "code",
   "execution_count": 163,
   "metadata": {},
   "outputs": [
    {
     "name": "stdout",
     "output_type": "stream",
     "text": [
      "accuracy : 0.98\n"
     ]
    }
   ],
   "source": [
    "df_predictions[\"true\"] = test_y\n",
    "true_mask = df_predictions[\"predicted\"] == df_predictions[\"true\"]\n",
    "accuracy = df_predictions.loc[true_mask].shape[0]/df_predictions.shape[0]\n",
    "print(\"accuracy : {}\".format(accuracy))"
   ]
  },
  {
   "cell_type": "code",
   "execution_count": 164,
   "metadata": {},
   "outputs": [
    {
     "data": {
      "image/png": "[encoded data removed]",
      "text/plain": [
       "<Figure size 360x360 with 2 Axes>"
      ]
     },
     "metadata": {
      "needs_background": "light"
     },
     "output_type": "display_data"
    }
   ],
   "source": [
    "from sklearn.metrics import confusion_matrix\n",
    "%matplotlib inline\n",
    "import matplotlib.pyplot as plt\n",
    "import seaborn as sns\n",
    "\n",
    "conf = confusion_matrix(df_predictions[\"true\"], df_predictions[\"predicted\"])\n",
    "fig = plt.figure(figsize = (5,5))\n",
    "sns.heatmap(conf, annot=True)\n",
    "plt.xlabel(\"True\")\n",
    "plt.ylabel(\"Predicted\")\n",
    "plt.tight_layout()"
   ]
  },
  {
   "cell_type": "code",
   "execution_count": null,
   "metadata": {},
   "outputs": [],
   "source": []
  }
 ],
 "metadata": {
  "kernelspec": {
   "display_name": "Python 3",
   "language": "python",
   "name": "python3"
  }
 },
 "nbformat": 4,
 "nbformat_minor": 2
}
