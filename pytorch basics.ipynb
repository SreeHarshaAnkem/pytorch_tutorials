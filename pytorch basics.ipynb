{
 "cells": [
  {
   "cell_type": "markdown",
   "metadata": {},
   "source": [
    "# Installation Steps\n",
    "1. conda activate pytorch_nlp_book\n",
    "2. conda install pytorch torchvision -c pytorch"
   ]
  },
  {
   "cell_type": "code",
   "execution_count": 1,
   "metadata": {},
   "outputs": [
    {
     "name": "stdout",
     "output_type": "stream",
     "text": [
      "2020-07-13 00:19:01 \n",
      "\n",
      "CPython 3.8.3\n",
      "IPython 7.13.0\n",
      "\n",
      "numpy 1.18.1\n",
      "pandas 1.0.3\n",
      "matplotlib 3.1.3\n",
      "sklearn 0.22.1\n",
      "torch 1.5.0\n"
     ]
    }
   ],
   "source": [
    "%load_ext watermark\n",
    "import random\n",
    "from sklearn.datasets import make_classification\n",
    "from sklearn.metrics import roc_auc_score\n",
    "from sklearn.model_selection import train_test_split\n",
    "import numpy as np\n",
    "import pandas as pd\n",
    "%matplotlib inline \n",
    "import matplotlib.pyplot as plt\n",
    "import torch\n",
    "%watermark  -d -t -v -p numpy,pandas,matplotlib,sklearn,torch"
   ]
  },
  {
   "cell_type": "markdown",
   "metadata": {},
   "source": [
    "# Creating empty matrix"
   ]
  },
  {
   "cell_type": "code",
   "execution_count": 2,
   "metadata": {},
   "outputs": [
    {
     "name": "stdout",
     "output_type": "stream",
     "text": [
      "[0.   0.25 0.5  0.75 1.  ]\n",
      "tensor([0.0000e+00, -0.0000e+00, 0.0000e+00, -0.0000e+00, 1.1210e-44])\n"
     ]
    }
   ],
   "source": [
    "print(np.empty(5))\n",
    "print(torch.empty(5))"
   ]
  },
  {
   "cell_type": "markdown",
   "metadata": {},
   "source": [
    "# Creating general matrices"
   ]
  },
  {
   "cell_type": "code",
   "execution_count": 3,
   "metadata": {},
   "outputs": [
    {
     "name": "stdout",
     "output_type": "stream",
     "text": [
      "[[1. 1. 1.]\n",
      " [1. 1. 1.]\n",
      " [1. 1. 1.]\n",
      " [1. 1. 1.]\n",
      " [1. 1. 1.]]\n",
      "tensor([[1., 1., 1.],\n",
      "        [1., 1., 1.],\n",
      "        [1., 1., 1.],\n",
      "        [1., 1., 1.],\n",
      "        [1., 1., 1.]])\n"
     ]
    }
   ],
   "source": [
    "# Ones Matrix\n",
    "print(np.ones((5,3)))\n",
    "print(torch.ones((5,3)))"
   ]
  },
  {
   "cell_type": "code",
   "execution_count": 4,
   "metadata": {},
   "outputs": [
    {
     "name": "stdout",
     "output_type": "stream",
     "text": [
      "[[0. 0. 0.]\n",
      " [0. 0. 0.]\n",
      " [0. 0. 0.]\n",
      " [0. 0. 0.]\n",
      " [0. 0. 0.]]\n",
      "tensor([[0., 0., 0.],\n",
      "        [0., 0., 0.],\n",
      "        [0., 0., 0.],\n",
      "        [0., 0., 0.],\n",
      "        [0., 0., 0.]])\n"
     ]
    }
   ],
   "source": [
    "# Zeros Matrix\n",
    "print(np.zeros((5,3)))\n",
    "print(torch.zeros((5,3)))"
   ]
  },
  {
   "cell_type": "code",
   "execution_count": 5,
   "metadata": {},
   "outputs": [
    {
     "name": "stdout",
     "output_type": "stream",
     "text": [
      "[[1. 0.]\n",
      " [0. 1.]]\n",
      "tensor([[1., 0.],\n",
      "        [0., 1.]])\n"
     ]
    }
   ],
   "source": [
    "# Identity Matrix\n",
    "print(np.eye(2))\n",
    "print(torch.eye(2))"
   ]
  },
  {
   "cell_type": "markdown",
   "metadata": {},
   "source": [
    "# Creating tensor from python datatypes directly"
   ]
  },
  {
   "cell_type": "code",
   "execution_count": 6,
   "metadata": {},
   "outputs": [
    {
     "name": "stdout",
     "output_type": "stream",
     "text": [
      "[1 2 3]\n",
      "tensor([1, 2, 3])\n"
     ]
    }
   ],
   "source": [
    "print(np.array([1,2,3]))\n",
    "print(torch.tensor([1,2,3]))"
   ]
  },
  {
   "cell_type": "markdown",
   "metadata": {},
   "source": [
    "# Creating random matrices"
   ]
  },
  {
   "cell_type": "code",
   "execution_count": 7,
   "metadata": {},
   "outputs": [
    {
     "name": "stdout",
     "output_type": "stream",
     "text": [
      "[[-1.22512307  0.12075924 -0.69020433]\n",
      " [-1.41442814  0.03657385  1.88369779]]\n",
      "tensor([[ 1.1502, -0.3289,  0.7004],\n",
      "        [ 0.4600,  0.6454, -0.5006]])\n"
     ]
    }
   ],
   "source": [
    "print(np.random.randn(2,3))\n",
    "print(torch.randn(size = [2,3]))"
   ]
  },
  {
   "cell_type": "markdown",
   "metadata": {},
   "source": [
    "# Converting a numpy array to tensor and vice versa"
   ]
  },
  {
   "cell_type": "code",
   "execution_count": 8,
   "metadata": {},
   "outputs": [
    {
     "name": "stdout",
     "output_type": "stream",
     "text": [
      "tensor([1, 2, 3])\n",
      "[1 2 3]\n"
     ]
    }
   ],
   "source": [
    "a = np.array([1,2,3])\n",
    "t_a = torch.from_numpy(a)\n",
    "print(t_a)\n",
    "print(t_a.numpy())"
   ]
  },
  {
   "cell_type": "markdown",
   "metadata": {},
   "source": [
    "# Arithmetic Operations"
   ]
  },
  {
   "cell_type": "code",
   "execution_count": 9,
   "metadata": {},
   "outputs": [
    {
     "name": "stdout",
     "output_type": "stream",
     "text": [
      "Inputs : \n",
      "\n",
      "\tx = [1 2 3] \n",
      "\ty = [2 4 6]\n",
      "Addition : \n",
      "\n",
      "\tNumpy: [3 6 9]\n",
      "\tTorch: tensor([3, 6, 9])\n",
      "Subtraction : \n",
      "\n",
      "\tNumpy: [-1 -2 -3]\n",
      "\tTorch: tensor([-1, -2, -3])\n",
      "Element Wise Multiplication : \n",
      "\n",
      "\tNumpy: [-1 -2 -3]\n",
      "\tTorch: tensor([ 2,  8, 18])\n",
      "Matrix Multiplication : \n",
      "\n",
      "\tNumpy: [[28]]\n",
      "\tTorch: tensor([[28]])\n"
     ]
    }
   ],
   "source": [
    "np_x = np.array([1,2,3])\n",
    "np_y = np.array([2,4,6])\n",
    "\n",
    "torch_x = torch.from_numpy(np_x)\n",
    "torch_y = torch.from_numpy(np_y)\n",
    "\n",
    "print(\"Inputs : \\n\")\n",
    "print(\"\\tx = {} \\n\\ty = {}\".format(np_x, np_y))\n",
    "\n",
    "print(\"Addition : \\n\" )\n",
    "\n",
    "np_z = np_x+np_y\n",
    "print(\"\\tNumpy: {}\".format(np_z))\n",
    "\n",
    "torch_z = torch.add(torch_x, torch_y)\n",
    "print(\"\\tTorch: {}\".format(torch_z))\n",
    "\n",
    "\n",
    "print(\"Subtraction : \\n\")\n",
    "\n",
    "np_z = np_x-np_y\n",
    "print(\"\\tNumpy: {}\".format(np_z))\n",
    "\n",
    "torch_z = torch.sub(torch_x, torch_y)\n",
    "print(\"\\tTorch: {}\".format(torch_z))\n",
    "\n",
    "\n",
    "print(\"Element Wise Multiplication : \\n\")\n",
    "np_z = np_x-np_y\n",
    "print(\"\\tNumpy: {}\".format(np_z))\n",
    "\n",
    "torch_z = torch_x*torch_y\n",
    "print(\"\\tTorch: {}\".format(torch_z))\n",
    "\n",
    "\n",
    "print(\"Matrix Multiplication : \\n\")\n",
    "np_z = np.dot(np_x.reshape(-1,1).T, np_y.reshape(-1,1))\n",
    "print(\"\\tNumpy: {}\".format(np_z))\n",
    "\n",
    "torch_z = torch.mm(torch_x.view(-1,1).T, torch_y.view(-1,1))\n",
    "print(\"\\tTorch: {}\".format(torch_z))"
   ]
  },
  {
   "cell_type": "markdown",
   "metadata": {},
   "source": [
    "# Inplace operations"
   ]
  },
  {
   "cell_type": "code",
   "execution_count": 10,
   "metadata": {},
   "outputs": [
    {
     "name": "stdout",
     "output_type": "stream",
     "text": [
      "tensor([1, 2, 3])\n",
      "tensor([2, 3, 4])\n"
     ]
    }
   ],
   "source": [
    "a = torch.tensor([1,2,3])\n",
    "print(a)\n",
    "\n",
    "# Note the underscore(\"_\")\n",
    "a.add_(1)\n",
    "print(a)"
   ]
  },
  {
   "cell_type": "markdown",
   "metadata": {},
   "source": [
    "# Numpy and pytorch tensors memory sharing"
   ]
  },
  {
   "cell_type": "code",
   "execution_count": 11,
   "metadata": {},
   "outputs": [
    {
     "name": "stdout",
     "output_type": "stream",
     "text": [
      "Original Numpy array : \n",
      "\t[1 2 3]\n",
      "\n",
      "Tensor Created from Numpy array : \n",
      "\ttensor([1, 2, 3])\n",
      "\n",
      "Tensor after addition : \n",
      "\ttensor([2, 3, 4])\n",
      "\n",
      "Numpy array after performing operation on tensor : \n",
      "\t[2 3 4]\n",
      "\n"
     ]
    }
   ],
   "source": [
    "a = np.array([1,2,3])\n",
    "print(\"Original Numpy array : \\n\\t{}\\n\".format(a))\n",
    "\n",
    "t_a = torch.from_numpy(a)\n",
    "print(\"Tensor Created from Numpy array : \\n\\t{}\\n\".format(t_a))\n",
    "\n",
    "\n",
    "t_a.add_(1)\n",
    "print(\"Tensor after addition : \\n\\t{}\\n\".format(t_a))\n",
    "\n",
    "\n",
    "print(\"Numpy array after performing operation on tensor : \\n\\t{}\\n\".format(a))\n"
   ]
  },
  {
   "cell_type": "markdown",
   "metadata": {},
   "source": [
    "# Moving data between GPU and CPU"
   ]
  },
  {
   "cell_type": "code",
   "execution_count": 12,
   "metadata": {},
   "outputs": [
    {
     "name": "stdout",
     "output_type": "stream",
     "text": [
      "Device Available : CPU\n"
     ]
    }
   ],
   "source": [
    "if torch.cuda.is_available():\n",
    "    print(\"Device Available : GPU\")\n",
    "else:\n",
    "    print(\"Device Available : CPU\")\n",
    "device = \"cuda\" if torch.cuda.is_available() else \"cpu\""
   ]
  },
  {
   "cell_type": "code",
   "execution_count": 13,
   "metadata": {},
   "outputs": [
    {
     "data": {
      "text/plain": [
       "tensor([1, 2, 3])"
      ]
     },
     "execution_count": 13,
     "metadata": {},
     "output_type": "execute_result"
    }
   ],
   "source": [
    "x = torch.tensor([1,2,3])\n",
    "x = x.to(device)\n",
    "x"
   ]
  },
  {
   "cell_type": "code",
   "execution_count": null,
   "metadata": {},
   "outputs": [],
   "source": []
  },
  {
   "cell_type": "markdown",
   "metadata": {},
   "source": [
    "# Auto Grad\n",
    "Specifying for which tensors gradients is required to calculated and setting this arguments tracks all operations on it."
   ]
  },
  {
   "cell_type": "code",
   "execution_count": 14,
   "metadata": {},
   "outputs": [
    {
     "data": {
      "text/plain": [
       "False"
      ]
     },
     "execution_count": 14,
     "metadata": {},
     "output_type": "execute_result"
    }
   ],
   "source": [
    "a = torch.randn((2,2))\n",
    "a.requires_grad"
   ]
  },
  {
   "cell_type": "code",
   "execution_count": 15,
   "metadata": {},
   "outputs": [
    {
     "data": {
      "text/plain": [
       "True"
      ]
     },
     "execution_count": 15,
     "metadata": {},
     "output_type": "execute_result"
    }
   ],
   "source": [
    "a = torch.randn((2,2), requires_grad=True)\n",
    "a.requires_grad"
   ]
  },
  {
   "cell_type": "code",
   "execution_count": 16,
   "metadata": {},
   "outputs": [
    {
     "name": "stdout",
     "output_type": "stream",
     "text": [
      "tensor(5.3525)\n"
     ]
    }
   ],
   "source": [
    "a = torch.randn((2,2))\n",
    "c = a*a\n",
    "d = c+3\n",
    "out = torch.mean(d)\n",
    "print(out)"
   ]
  },
  {
   "cell_type": "code",
   "execution_count": 17,
   "metadata": {},
   "outputs": [
    {
     "name": "stdout",
     "output_type": "stream",
     "text": [
      "False False False False\n"
     ]
    }
   ],
   "source": [
    "print(a.requires_grad, c.requires_grad, d.requires_grad, out.requires_grad)"
   ]
  },
  {
   "cell_type": "code",
   "execution_count": 18,
   "metadata": {},
   "outputs": [
    {
     "name": "stdout",
     "output_type": "stream",
     "text": [
      "tensor(4.6164, grad_fn=<MeanBackward0>)\n"
     ]
    }
   ],
   "source": [
    "a = torch.randn((2,2))\n",
    "a.requires_grad_(True)\n",
    "c = a*a\n",
    "d = c+3\n",
    "out = torch.mean(d)\n",
    "print(out)"
   ]
  },
  {
   "cell_type": "code",
   "execution_count": 19,
   "metadata": {},
   "outputs": [
    {
     "name": "stdout",
     "output_type": "stream",
     "text": [
      "True True True True\n"
     ]
    }
   ],
   "source": [
    "print(a.requires_grad, c.requires_grad, d.requires_grad, out.requires_grad)"
   ]
  },
  {
   "cell_type": "code",
   "execution_count": 20,
   "metadata": {},
   "outputs": [
    {
     "name": "stdout",
     "output_type": "stream",
     "text": [
      "tensor(3.9570, grad_fn=<MeanBackward0>)\n"
     ]
    }
   ],
   "source": [
    "torch.manual_seed(9)\n",
    "a = torch.randn((2,2), requires_grad=True)\n",
    "a.requires_grad_(True)\n",
    "c = a*a\n",
    "d = c+3\n",
    "out = torch.mean(d)\n",
    "print(out)"
   ]
  },
  {
   "cell_type": "code",
   "execution_count": 21,
   "metadata": {},
   "outputs": [],
   "source": [
    "# Auto differentiation\n",
    "out.backward()"
   ]
  },
  {
   "cell_type": "markdown",
   "metadata": {},
   "source": [
    "# To Do : Add Latex\n",
    "## dout/da = a/2; Jacobian matrix"
   ]
  },
  {
   "cell_type": "code",
   "execution_count": 22,
   "metadata": {},
   "outputs": [
    {
     "data": {
      "text/plain": [
       "tensor([[ 0.0224,  0.9556],\n",
       "        [-0.1155,  0.1730]])"
      ]
     },
     "execution_count": 22,
     "metadata": {},
     "output_type": "execute_result"
    }
   ],
   "source": [
    "a.grad # dout/da"
   ]
  },
  {
   "cell_type": "code",
   "execution_count": 23,
   "metadata": {},
   "outputs": [
    {
     "name": "stdout",
     "output_type": "stream",
     "text": [
      "tensor([[True, True],\n",
      "        [True, True]])\n"
     ]
    }
   ],
   "source": [
    "print(a/2 == a.grad)"
   ]
  },
  {
   "cell_type": "code",
   "execution_count": 24,
   "metadata": {},
   "outputs": [
    {
     "data": {
      "text/plain": [
       "(tensor([[2.0006e-03, 3.6528e+00],\n",
       "         [5.3375e-02, 1.1967e-01]], grad_fn=<MulBackward0>),\n",
       " tensor([[2.0006e-03, 3.6528e+00],\n",
       "         [5.3375e-02, 1.1967e-01]]))"
      ]
     },
     "execution_count": 24,
     "metadata": {},
     "output_type": "execute_result"
    }
   ],
   "source": [
    "c, c.detach()"
   ]
  }
 ],
 "metadata": {
  "kernelspec": {
   "display_name": "Python 3",
   "language": "python",
   "name": "python3"
  },
  "language_info": {
   "codemirror_mode": {
    "name": "ipython",
    "version": 3
   },
   "file_extension": ".py",
   "mimetype": "text/x-python",
   "name": "python",
   "nbconvert_exporter": "python",
   "pygments_lexer": "ipython3",
   "version": "3.8.3"
  }
 },
 "nbformat": 4,
 "nbformat_minor": 4
}
