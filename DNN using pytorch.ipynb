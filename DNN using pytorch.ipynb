{
 "cells": [
  {
   "cell_type": "code",
   "execution_count": 1,
   "metadata": {},
   "outputs": [],
   "source": [
    "import numpy as np\n",
    "from torch import nn\n",
    "import torch\n",
    "from torch.utils.data import TensorDataset, DataLoader\n",
    "from torch.optim import SGD, Adam\n",
    "\n",
    "%matplotlib inline\n",
    "import matplotlib.pyplot as plt\n"
   ]
  },
  {
   "cell_type": "code",
   "execution_count": 39,
   "metadata": {},
   "outputs": [],
   "source": [
    "device = \"cuda\" if torch.cuda.is_available() else \"cpu\""
   ]
  },
  {
   "cell_type": "code",
   "execution_count": 40,
   "metadata": {},
   "outputs": [],
   "source": [
    "np.random.seed(9)\n",
    "X = np.random.randint(-50000, 50000, 10000).reshape(-1,1)\n",
    "y = X**2"
   ]
  },
  {
   "cell_type": "code",
   "execution_count": 41,
   "metadata": {},
   "outputs": [],
   "source": [
    "X = np.concatenate([X, [[1]]*X.shape[0]], axis =1)\n",
    "y = y.reshape(-1,1)"
   ]
  },
  {
   "cell_type": "code",
   "execution_count": 42,
   "metadata": {},
   "outputs": [],
   "source": [
    "from sklearn.model_selection import train_test_split\n",
    "train_X = X[X[:,0]%2==1]\n",
    "train_y = y[X[:,0]%2==1]\n",
    "test_X = X[X[:,0]%2==0]\n",
    "test_y = y[X[:,0]%2==0]"
   ]
  },
  {
   "cell_type": "code",
   "execution_count": 43,
   "metadata": {},
   "outputs": [],
   "source": [
    "X_max = np.max(train_X, axis = 0 )\n",
    "y_max = np.max(train_y)\n",
    "\n",
    "train_X = train_X/X_max\n",
    "test_X = test_X/X_max\n",
    "\n",
    "train_y = train_y/y_max\n",
    "test_y = test_y/y_max\n",
    "\n",
    "\n",
    "\n",
    "train_X = torch.from_numpy(train_X).float()\n",
    "train_y = torch.from_numpy(train_y).float()\n",
    "\n",
    "test_X = torch.from_numpy(test_X).float()\n",
    "test_y = torch.from_numpy(test_y).float()"
   ]
  },
  {
   "cell_type": "code",
   "execution_count": 44,
   "metadata": {},
   "outputs": [],
   "source": [
    "def compute_loss(y_true, y_pred):\n",
    "    computed_loss = torch.mean((y_pred-y_true).pow(2))/2\n",
    "    return computed_loss"
   ]
  },
  {
   "cell_type": "code",
   "execution_count": 45,
   "metadata": {},
   "outputs": [],
   "source": [
    "def initialize_weights(d0, d1):\n",
    "    return np.random.randn(d0, d1)"
   ]
  },
  {
   "cell_type": "code",
   "execution_count": 46,
   "metadata": {},
   "outputs": [],
   "source": [
    "def generate_batches(features, target, batch_idx, mini_batch_size):\n",
    "\n",
    "    batch_X = features[batch_idx*mini_batch_size: (batch_idx+1)*mini_batch_size]\n",
    "    batch_y = target[batch_idx*mini_batch_size: (batch_idx+1)*mini_batch_size]\n",
    "    yield batch_X, batch_y"
   ]
  },
  {
   "cell_type": "code",
   "execution_count": 47,
   "metadata": {},
   "outputs": [],
   "source": [
    "hidden_units = 32"
   ]
  },
  {
   "cell_type": "code",
   "execution_count": 48,
   "metadata": {},
   "outputs": [],
   "source": [
    "from tqdm import tqdm\n",
    "#np.random.seed(0)\n",
    "W1 = initialize_weights(X.shape[1], hidden_units)\n",
    "#np.random.seed(1)\n",
    "W2 = initialize_weights(hidden_units, y.shape[1])\n",
    "\n",
    "W1 = torch.from_numpy(W1).float()\n",
    "W2 = torch.from_numpy(W2).float()\n",
    "\n",
    "\n",
    "\n",
    "model = dict()\n",
    "model[\"W1\"] = W1\n",
    "model[\"W2\"] = W2\n",
    "\n",
    "model[\"W1\"].requires_grad = True\n",
    "model[\"W2\"].requires_grad = True"
   ]
  },
  {
   "cell_type": "code",
   "execution_count": 49,
   "metadata": {},
   "outputs": [],
   "source": [
    "def forward(X):\n",
    "    model[\"H1\"] = X.mm(model[\"W1\"])\n",
    "    model[\"A1\"] = model[\"H1\"].clamp(min=0)\n",
    "    model[\"H2\"] = model[\"A1\"].mm(model[\"W2\"])\n",
    "    \n",
    "    \n",
    "    return model"
   ]
  },
  {
   "cell_type": "code",
   "execution_count": 50,
   "metadata": {},
   "outputs": [],
   "source": [
    "def shuffle_dataset(features, target):\n",
    "    indices = np.arange(0, train_X.shape[0])\n",
    "    shuffled_indices = np.random.choice(a=indices, size=len(indices))\n",
    "    return features[shuffled_indices], target[shuffled_indices]"
   ]
  },
  {
   "cell_type": "code",
   "execution_count": 51,
   "metadata": {},
   "outputs": [],
   "source": [
    "model[\"W1\"].grad"
   ]
  },
  {
   "cell_type": "markdown",
   "metadata": {},
   "source": [
    "# Using Python Auto Grad for back propogation"
   ]
  },
  {
   "cell_type": "code",
   "execution_count": 52,
   "metadata": {},
   "outputs": [
    {
     "name": "stderr",
     "output_type": "stream",
     "text": [
      "100%|██████████| 50/50 [00:02<00:00, 21.25it/s]\n"
     ]
    },
    {
     "data": {
      "text/plain": [
       "[<matplotlib.lines.Line2D at 0x7fbecedccac0>]"
      ]
     },
     "execution_count": 52,
     "metadata": {},
     "output_type": "execute_result"
    },
    {
     "data": {
      "image/png": "[encoded data removed]",
      "text/plain": [
       "<Figure size 720x288 with 2 Axes>"
      ]
     },
     "metadata": {
      "needs_background": "light"
     },
     "output_type": "display_data"
    }
   ],
   "source": [
    "loss_all = []\n",
    "epochs = 50\n",
    "mini_batch_size = 32\n",
    "lr=1e-4\n",
    "\n",
    "break_flag=0\n",
    "for epoch in tqdm(range(epochs)): # for each epoch\n",
    "    observations = train_X.shape[0]\n",
    "    iterations = (observations//mini_batch_size)-1\n",
    "    iteration=0\n",
    "\n",
    "    train_X, train_y = shuffle_dataset(train_X, train_y)\n",
    "\n",
    "    while iteration<=iterations: \n",
    "        # for each mini batch\n",
    "        for batch_X, batch_y in generate_batches(train_X, train_y, iteration, mini_batch_size):\n",
    "            model = forward(batch_X)\n",
    "            loss = compute_loss(batch_y, model[\"H2\"])\n",
    "            loss.backward()\n",
    "            \n",
    "            with torch.no_grad():\n",
    "                model[\"W1\"]=model[\"W1\"]-lr*model[\"W1\"].grad\n",
    "                model[\"W2\"]=model[\"W2\"]-lr*model[\"W2\"].grad\n",
    "                \n",
    "                \n",
    "                \n",
    "            model[\"W1\"].requires_grad = True\n",
    "            model[\"W2\"].requires_grad = True\n",
    "            \n",
    "\n",
    "        iteration+=1\n",
    "    \n",
    "    with torch.no_grad():    \n",
    "        for phase in [\"train\", \"test\"]:  \n",
    "            if phase == \"train\":\n",
    "                train_y_pred = forward(train_X)[\"H2\"]\n",
    "                train_epoch_loss = compute_loss(train_y, train_y_pred).item()\n",
    "            else:\n",
    "                test_y_pred = forward(test_X)[\"H2\"]\n",
    "                test_epoch_loss = compute_loss(test_y, test_y_pred).item()\n",
    "\n",
    "        # Collecting Loss Values\n",
    "        loss_all.append((train_epoch_loss, test_epoch_loss))\n",
    "        all_losses = np.array(loss_all)\n",
    "\n",
    "fig = plt.figure(figsize=(10, 4))\n",
    "fig.add_subplot(121)\n",
    "plt.title(\"Train Loss\")\n",
    "plt.plot(np.array(loss_all)[:,0], color=\"blue\")\n",
    "fig.add_subplot(122)\n",
    "plt.title(\"Test Loss\")\n",
    "plt.plot(np.array(loss_all)[:,1], color= \"red\")\n",
    "\n",
    "\n"
   ]
  },
  {
   "cell_type": "code",
   "execution_count": 53,
   "metadata": {},
   "outputs": [
    {
     "data": {
      "text/plain": [
       "0.9505524503836948"
      ]
     },
     "execution_count": 53,
     "metadata": {},
     "output_type": "execute_result"
    }
   ],
   "source": [
    "from sklearn.metrics import r2_score\n",
    "pred = forward(train_X)[\"H2\"].detach().numpy()\n",
    "r2_score(train_y, pred)"
   ]
  },
  {
   "cell_type": "code",
   "execution_count": 54,
   "metadata": {},
   "outputs": [
    {
     "data": {
      "text/plain": [
       "0.9477697063227856"
      ]
     },
     "execution_count": 54,
     "metadata": {},
     "output_type": "execute_result"
    }
   ],
   "source": [
    "pred = forward(test_X)[\"H2\"].detach().numpy()\n",
    "r2_score(test_y, pred)"
   ]
  },
  {
   "cell_type": "code",
   "execution_count": 55,
   "metadata": {},
   "outputs": [
    {
     "data": {
      "image/png": "[encoded data removed]",
      "text/plain": [
       "<Figure size 432x288 with 1 Axes>"
      ]
     },
     "metadata": {
      "needs_background": "light"
     },
     "output_type": "display_data"
    }
   ],
   "source": [
    "sort_index = np.argsort(train_X[:,0], axis =0)\n",
    "\n",
    "pred = forward(train_X[sort_index, :])[\"H2\"].detach().numpy()\n",
    "plt.plot(train_X[sort_index, 0], train_y[sort_index])\n",
    "plt.plot(train_X[sort_index, 0], pred)\n",
    "plt.legend([\"Actual\", \"Predicted\"])\n",
    "plt.show()"
   ]
  },
  {
   "cell_type": "markdown",
   "metadata": {},
   "source": [
    "# Using torch.nn"
   ]
  },
  {
   "cell_type": "code",
   "execution_count": 874,
   "metadata": {},
   "outputs": [],
   "source": [
    "np.random.seed(9)\n",
    "X = np.random.randint(-50000, 50000, 10000).reshape(-1,1)\n",
    "y = X**2\n",
    "\n",
    "from sklearn.model_selection import train_test_split\n",
    "train_X = X[X[:,0]%2==1]\n",
    "train_y = y[X[:,0]%2==1]\n",
    "test_X = X[X[:,0]%2==0]\n",
    "test_y = y[X[:,0]%2==0]\n",
    "\n",
    "X_max = np.max(train_X, axis = 0 )\n",
    "y_max = np.max(train_y)\n",
    "\n",
    "train_X = train_X/X_max\n",
    "test_X = test_X/X_max\n",
    "\n",
    "train_y = train_y/y_max\n",
    "test_y = test_y/y_max"
   ]
  },
  {
   "cell_type": "code",
   "execution_count": 789,
   "metadata": {},
   "outputs": [],
   "source": [
    "train_X = torch.from_numpy(train_X).float()\n",
    "train_y = torch.from_numpy(train_y).float()\n",
    "\n",
    "test_X = torch.from_numpy(test_X).float()\n",
    "test_y = torch.from_numpy(test_y).float()"
   ]
  },
  {
   "cell_type": "code",
   "execution_count": 790,
   "metadata": {},
   "outputs": [
    {
     "data": {
      "text/plain": [
       "<torch._C.Generator at 0x7fbeca397130>"
      ]
     },
     "execution_count": 790,
     "metadata": {},
     "output_type": "execute_result"
    }
   ],
   "source": [
    "from torch import nn\n",
    "from torch import functional as F\n",
    "torch.manual_seed(9)"
   ]
  },
  {
   "cell_type": "markdown",
   "metadata": {},
   "source": [
    "# Refactor using Sequential API"
   ]
  },
  {
   "cell_type": "code",
   "execution_count": 791,
   "metadata": {},
   "outputs": [],
   "source": [
    "# 1. Model Architecture - Using Sequential\n",
    "model = nn.Sequential(nn.Linear(in_features = X.shape[1],out_features = hidden_units, bias=True),\n",
    "                       nn.ReLU(),\n",
    "                       nn.Linear(in_features = hidden_units,out_features = 1)\n",
    "                       )\n",
    "model = model.to(device)"
   ]
  },
  {
   "cell_type": "code",
   "execution_count": 792,
   "metadata": {},
   "outputs": [
    {
     "name": "stderr",
     "output_type": "stream",
     "text": [
      "100%|██████████| 100/100 [00:05<00:00, 19.59it/s]\n"
     ]
    }
   ],
   "source": [
    "# 2. Loss\n",
    "criterion = torch.nn.MSELoss(reduction=\"mean\")\n",
    "\n",
    "# 3. Optimizer\n",
    "optimizer = torch.optim.SGD(model.parameters(), lr = 1e-3)\n",
    "\n",
    "#4. Training\n",
    "epochs = 100\n",
    "for epoch in tqdm(range(epochs)): # for each epoch\n",
    "    observations = train_X.shape[0]\n",
    "    iterations = (observations//mini_batch_size)-1\n",
    "    iteration=0\n",
    "\n",
    "    train_X, train_y = shuffle_dataset(train_X, train_y)\n",
    "    model.train()\n",
    "    while iteration<=iterations: \n",
    "        # for each mini batch\n",
    "        for batch_X, batch_y in generate_batches(train_X, train_y, iteration, mini_batch_size):\n",
    "            \n",
    "             # 1. Forward Propogation\n",
    "            y_pred = model(batch_X.float())\n",
    "            # 2. Compute Loss\n",
    "            loss = criterion(y_pred, batch_y.float())\n",
    "\n",
    "            # 3. Ensure gradients are all zero\n",
    "            optimizer.zero_grad()\n",
    "            \n",
    "            # 4. Back Propogate\n",
    "            loss.backward()\n",
    "            \n",
    "            #5. Update weights\n",
    "            optimizer.step()\n",
    "            \n",
    "            iteration+=1\n",
    "    \n",
    "    model.eval()\n",
    "    with torch.no_grad():    \n",
    "            for phase in [\"train\", \"test\"]:  \n",
    "                if phase == \"train\":\n",
    "                    train_y_pred = model(train_X.float())\n",
    "                    train_epoch_loss = criterion(train_y_pred, train_y.float()).item()\n",
    "                else:\n",
    "                    test_y_pred = model(test_X.float())\n",
    "                    test_epoch_loss = criterion(test_y_pred, test_y.float()).item()\n",
    "\n",
    "            # Collecting Loss Values\n",
    "            loss_all.append((train_epoch_loss, test_epoch_loss))\n",
    "            all_losses = np.array(loss_all)\n",
    "\n"
   ]
  },
  {
   "cell_type": "code",
   "execution_count": 793,
   "metadata": {},
   "outputs": [
    {
     "data": {
      "text/plain": [
       "[<matplotlib.lines.Line2D at 0x7fbed41c5490>]"
      ]
     },
     "execution_count": 793,
     "metadata": {},
     "output_type": "execute_result"
    },
    {
     "data": {
      "image/png": "[encoded data removed]",
      "text/plain": [
       "<Figure size 720x288 with 2 Axes>"
      ]
     },
     "metadata": {
      "needs_background": "light"
     },
     "output_type": "display_data"
    }
   ],
   "source": [
    "fig = plt.figure(figsize=(10, 4))\n",
    "fig.add_subplot(121)\n",
    "plt.title(\"Train Loss\")\n",
    "plt.plot(np.array(loss_all)[:,0], color=\"blue\")\n",
    "fig.add_subplot(122)\n",
    "plt.title(\"Test Loss\")\n",
    "plt.plot(np.array(loss_all)[:,1], color= \"red\")"
   ]
  },
  {
   "cell_type": "code",
   "execution_count": 794,
   "metadata": {},
   "outputs": [
    {
     "data": {
      "text/plain": [
       "0.9743824355169226"
      ]
     },
     "execution_count": 794,
     "metadata": {},
     "output_type": "execute_result"
    }
   ],
   "source": [
    "from sklearn.metrics import r2_score\n",
    "pred = model(train_X).detach().numpy()\n",
    "r2_score(train_y, pred)"
   ]
  },
  {
   "cell_type": "code",
   "execution_count": 795,
   "metadata": {},
   "outputs": [
    {
     "data": {
      "text/plain": [
       "0.9686837045741387"
      ]
     },
     "execution_count": 795,
     "metadata": {},
     "output_type": "execute_result"
    }
   ],
   "source": [
    "pred = model(test_X).detach().numpy()\n",
    "r2_score(test_y, pred)"
   ]
  },
  {
   "cell_type": "code",
   "execution_count": null,
   "metadata": {},
   "outputs": [],
   "source": []
  },
  {
   "cell_type": "markdown",
   "metadata": {},
   "source": [
    "# Refactor using Module Subclassing\n",
    "For more complex models"
   ]
  },
  {
   "cell_type": "code",
   "execution_count": 796,
   "metadata": {},
   "outputs": [],
   "source": [
    "from torch.nn.functional import relu"
   ]
  },
  {
   "cell_type": "code",
   "execution_count": 797,
   "metadata": {},
   "outputs": [],
   "source": [
    "class MlpRegression(nn.Module):\n",
    "    def __init__(self, feature_size, hidden_units, num_labels):\n",
    "        super(MlpRegression, self).__init__()\n",
    "        self.h1 = nn.Linear(in_features = feature_size, \n",
    "                         out_features = hidden_units\n",
    "                         )\n",
    "        self.h2 = nn.Linear(in_features = hidden_units,\n",
    "                         out_features = num_labels)\n",
    "    def forward(self, x):\n",
    "        h1 = self.h1(x)\n",
    "        a1 = relu(h1)\n",
    "        h2 = self.h2(a1)\n",
    "        return h2\n",
    "        "
   ]
  },
  {
   "cell_type": "code",
   "execution_count": 798,
   "metadata": {},
   "outputs": [
    {
     "name": "stderr",
     "output_type": "stream",
     "text": [
      "100%|██████████| 100/100 [00:05<00:00, 19.49it/s]\n"
     ]
    }
   ],
   "source": [
    "# 1. Model Architecture - Using Sequential\n",
    "model = MlpRegression(feature_size = X.shape[1],\n",
    "                      hidden_units = hidden_units,\n",
    "                      num_labels = y.shape[1])\n",
    "model = model.to(device)\n",
    "\n",
    "# 2. Loss\n",
    "criterion = torch.nn.MSELoss(reduction=\"mean\")\n",
    "\n",
    "# 3. Optimizer\n",
    "optimizer = torch.optim.SGD(model.parameters(), lr = 1e-3)\n",
    "\n",
    "#4. Training\n",
    "epochs = 100\n",
    "for epoch in tqdm(range(epochs)): # for each epoch\n",
    "    observations = train_X.shape[0]\n",
    "    iterations = (observations//mini_batch_size)-1\n",
    "    iteration=0\n",
    "\n",
    "    train_X, train_y = shuffle_dataset(train_X, train_y)\n",
    "    model.train()\n",
    "    while iteration<=iterations: \n",
    "        # for each mini batch\n",
    "        for batch_X, batch_y in generate_batches(train_X, train_y, iteration, mini_batch_size):\n",
    "            \n",
    "             # 1. Forward Propogation\n",
    "            y_pred = model(batch_X.float())\n",
    "            # 2. Compute Loss\n",
    "            loss = criterion(y_pred, batch_y.float())\n",
    "\n",
    "            # 3. Ensure gradients are all zero\n",
    "            optimizer.zero_grad()\n",
    "            \n",
    "            # 4. Back Propogate\n",
    "            loss.backward()\n",
    "            \n",
    "            #5. Update weights\n",
    "            optimizer.step()\n",
    "            \n",
    "            iteration+=1\n",
    "    \n",
    "    model.eval()\n",
    "    with torch.no_grad():    \n",
    "            for phase in [\"train\", \"test\"]:  \n",
    "                if phase == \"train\":\n",
    "                    train_y_pred = model(train_X.float())\n",
    "                    train_epoch_loss = criterion(train_y_pred, train_y.float()).item()\n",
    "                else:\n",
    "                    test_y_pred = model(test_X.float())\n",
    "                    test_epoch_loss = criterion(test_y_pred, test_y.float()).item()\n",
    "\n",
    "            # Collecting Loss Values\n",
    "            loss_all.append((train_epoch_loss, test_epoch_loss))\n",
    "            all_losses = np.array(loss_all)\n",
    "\n",
    "\n"
   ]
  },
  {
   "cell_type": "code",
   "execution_count": 799,
   "metadata": {},
   "outputs": [
    {
     "data": {
      "text/plain": [
       "[<matplotlib.lines.Line2D at 0x7fbed4e757c0>]"
      ]
     },
     "execution_count": 799,
     "metadata": {},
     "output_type": "execute_result"
    },
    {
     "data": {
      "image/png": "[encoded data removed]",
      "text/plain": [
       "<Figure size 720x288 with 2 Axes>"
      ]
     },
     "metadata": {
      "needs_background": "light"
     },
     "output_type": "display_data"
    }
   ],
   "source": [
    "fig = plt.figure(figsize=(10, 4))\n",
    "fig.add_subplot(121)\n",
    "plt.title(\"Train Loss\")\n",
    "plt.plot(np.array(loss_all)[:,0], color=\"blue\")\n",
    "fig.add_subplot(122)\n",
    "plt.title(\"Test Loss\")\n",
    "plt.plot(np.array(loss_all)[:,1], color= \"red\")"
   ]
  },
  {
   "cell_type": "code",
   "execution_count": 800,
   "metadata": {},
   "outputs": [
    {
     "data": {
      "text/plain": [
       "0.9620549062007734"
      ]
     },
     "execution_count": 800,
     "metadata": {},
     "output_type": "execute_result"
    }
   ],
   "source": [
    "from sklearn.metrics import r2_score\n",
    "pred = model(train_X).detach().numpy()\n",
    "r2_score(train_y, pred)"
   ]
  },
  {
   "cell_type": "code",
   "execution_count": 801,
   "metadata": {},
   "outputs": [
    {
     "data": {
      "text/plain": [
       "0.942976225968207"
      ]
     },
     "execution_count": 801,
     "metadata": {},
     "output_type": "execute_result"
    }
   ],
   "source": [
    "pred = model(test_X).detach().numpy()\n",
    "r2_score(test_y, pred)"
   ]
  },
  {
   "cell_type": "code",
   "execution_count": 1018,
   "metadata": {},
   "outputs": [],
   "source": [
    "np.random.seed(9)\n",
    "X = np.random.randint(-50000, 50000, 10000).reshape(-1,1)\n",
    "y = X**2\n",
    "\n",
    "from sklearn.model_selection import train_test_split\n",
    "train_X = X[X[:,0]%2==1]\n",
    "train_y = y[X[:,0]%2==1]\n",
    "test_X = X[X[:,0]%2==0]\n",
    "test_y = y[X[:,0]%2==0]\n",
    "\n",
    "X_max = np.max(train_X, axis = 0 )\n",
    "y_max = np.max(train_y)\n",
    "\n",
    "train_X = train_X/X_max\n",
    "test_X = test_X/X_max\n",
    "\n",
    "train_y = train_y/y_max\n",
    "test_y = test_y/y_max\n"
   ]
  },
  {
   "cell_type": "markdown",
   "metadata": {},
   "source": [
    "# Refactor using Data set Class"
   ]
  },
  {
   "cell_type": "code",
   "execution_count": 1019,
   "metadata": {},
   "outputs": [],
   "source": [
    "from torch.utils.data import Dataset\n",
    "from sklearn.model_selection import train_test_split"
   ]
  },
  {
   "cell_type": "code",
   "execution_count": 1034,
   "metadata": {},
   "outputs": [],
   "source": [
    "# Useful for custom dataset classes and preprocessing"
   ]
  },
  {
   "cell_type": "code",
   "execution_count": 1020,
   "metadata": {},
   "outputs": [],
   "source": [
    "class RandomDataSet(Dataset):\n",
    "    def __init__(self, X, y):\n",
    "        self.X = X\n",
    "        self.y = y\n",
    "        \n",
    "    def __len__(self):\n",
    "        return len(self.X)\n",
    "    \n",
    "    def __getitem__(self, idx):\n",
    "        # Write Complex Logic here\n",
    "        # Read large datasets here \n",
    "       \n",
    "        return torch.tensor(self.X[idx]), torch.tensor(self.y[idx])"
   ]
  },
  {
   "cell_type": "code",
   "execution_count": 1021,
   "metadata": {},
   "outputs": [],
   "source": [
    "train_dataset = RandomDataSet(train_X, train_y)\n",
    "test_dataset = RandomDataSet(test_X, test_y)"
   ]
  },
  {
   "cell_type": "code",
   "execution_count": 1035,
   "metadata": {},
   "outputs": [],
   "source": [
    "# for simple dataset creation TensorDataset is the way to go. "
   ]
  },
  {
   "cell_type": "code",
   "execution_count": null,
   "metadata": {},
   "outputs": [],
   "source": [
    "# TensorDataset(train_X, train_y)"
   ]
  },
  {
   "cell_type": "code",
   "execution_count": 1037,
   "metadata": {},
   "outputs": [],
   "source": [
    "# Missing requirements in Dataset class\n",
    "# 1. Batch Generator\n",
    "# 2. Shuffling\n"
   ]
  },
  {
   "cell_type": "markdown",
   "metadata": {},
   "source": [
    "# Refactoring using DataLoader Class"
   ]
  },
  {
   "cell_type": "code",
   "execution_count": 1022,
   "metadata": {},
   "outputs": [],
   "source": [
    "from torch.utils.data import DataLoader"
   ]
  },
  {
   "cell_type": "code",
   "execution_count": 1023,
   "metadata": {},
   "outputs": [],
   "source": [
    "train_dl = DataLoader(dataset = train_dataset, \n",
    "           batch_size = 32,\n",
    "           shuffle = True)\n",
    "\n",
    "test_dl = DataLoader(dataset = test_dataset, \n",
    "           batch_size = 32,\n",
    "           shuffle = True)\n",
    "\n"
   ]
  },
  {
   "cell_type": "code",
   "execution_count": 1024,
   "metadata": {},
   "outputs": [],
   "source": [
    "class MlpRegression(nn.Module):\n",
    "    def __init__(self, feature_size, hidden_units, num_labels):\n",
    "        super(MlpRegression, self).__init__()\n",
    "        self.h1 = nn.Linear(in_features = feature_size, \n",
    "                         out_features = hidden_units\n",
    "                         )\n",
    "        self.h2 = nn.Linear(in_features = hidden_units,\n",
    "                         out_features = num_labels)\n",
    "    def forward(self, x):\n",
    "        h1 = self.h1(x)\n",
    "        a1 = relu(h1)\n",
    "        h2 = self.h2(a1)\n",
    "        return h2\n",
    "        "
   ]
  },
  {
   "cell_type": "code",
   "execution_count": 1025,
   "metadata": {},
   "outputs": [
    {
     "name": "stdout",
     "output_type": "stream",
     "text": [
      "epoch : 0\tloss : 0.14381300323183024\n",
      "epoch : 10\tloss : 0.06547862725167335\n",
      "epoch : 20\tloss : 0.043780542792210095\n",
      "epoch : 30\tloss : 0.028597007163717776\n",
      "epoch : 40\tloss : 0.018539557410286196\n",
      "epoch : 50\tloss : 0.01221797456139628\n",
      "epoch : 60\tloss : 0.008470006581820264\n",
      "epoch : 70\tloss : 0.006280672877195846\n",
      "epoch : 80\tloss : 0.00502724190024494\n",
      "epoch : 90\tloss : 0.004255320194554574\n"
     ]
    }
   ],
   "source": [
    "# 1. Model Architecture - Using Module Sub classing\n",
    "model = MlpRegression(feature_size = X.shape[1],\n",
    "                      hidden_units = hidden_units,\n",
    "                      num_labels = y.shape[1])\n",
    "model = model.to(device)\n",
    "\n",
    "# 2. Loss\n",
    "criterion = torch.nn.MSELoss(reduction=\"mean\")\n",
    "\n",
    "# 3. Optimizer\n",
    "optimizer = torch.optim.SGD(model.parameters(), lr = 1e-3)\n",
    "\n",
    "for epoch in range(epochs):\n",
    "    model.train()\n",
    "    all_loss = 0\n",
    "    for batch_X, batch_y in train_dl:\n",
    "\n",
    "         # 1. Forward Propogation\n",
    "        y_pred = model(batch_X.float())\n",
    "        # 2. Compute Loss\n",
    "        loss = criterion(y_pred, batch_y.float())\n",
    "\n",
    "        # 3. Ensure gradients are all zero\n",
    "        optimizer.zero_grad()\n",
    "\n",
    "        # 4. Back Propogate\n",
    "        loss.backward()\n",
    "\n",
    "        #5. Update weights\n",
    "        optimizer.step()\n",
    "        \n",
    "        all_loss+=loss.item()\n",
    "    \n",
    "    epoch_loss = all_loss/(len(train_dl))\n",
    "    if epoch%10 == 0:\n",
    "        print(\"epoch : {}\\tloss : {}\".format(epoch, epoch_loss))\n",
    "    \n",
    "    "
   ]
  },
  {
   "cell_type": "code",
   "execution_count": 1030,
   "metadata": {},
   "outputs": [],
   "source": [
    "def get_predictions(model, dl):\n",
    "    for idx, (batch_X, batch_y) in enumerate(dl):\n",
    "        if idx == 0:\n",
    "            pred = model(batch_X.float())\n",
    "            true = batch_y\n",
    "        else:\n",
    "            pred = torch.cat((pred, model(batch_X.float())), dim=0)\n",
    "            true = torch.cat((true, batch_y))\n",
    "    return pred, true"
   ]
  },
  {
   "cell_type": "code",
   "execution_count": 1031,
   "metadata": {},
   "outputs": [],
   "source": [
    "train_pred, train_y = get_predictions(model, train_dl)\n",
    "train_pred = train_pred.detach().numpy()\n",
    "train_y = train_y.detach().numpy()\n",
    "\n",
    "\n",
    "test_pred, test_y = get_predictions(model, test_dl)\n",
    "test_pred = test_pred.detach().numpy()\n",
    "test_y = test_y.detach().numpy()\n",
    "\n"
   ]
  },
  {
   "cell_type": "code",
   "execution_count": 1032,
   "metadata": {},
   "outputs": [
    {
     "data": {
      "text/plain": [
       "0.9559713481186319"
      ]
     },
     "execution_count": 1032,
     "metadata": {},
     "output_type": "execute_result"
    }
   ],
   "source": [
    "r2_score(train_y, train_pred)"
   ]
  },
  {
   "cell_type": "code",
   "execution_count": 1033,
   "metadata": {},
   "outputs": [
    {
     "data": {
      "text/plain": [
       "0.9554237741875538"
      ]
     },
     "execution_count": 1033,
     "metadata": {},
     "output_type": "execute_result"
    }
   ],
   "source": [
    "r2_score(test_y, test_pred)"
   ]
  },
  {
   "cell_type": "code",
   "execution_count": null,
   "metadata": {},
   "outputs": [],
   "source": []
  },
  {
   "cell_type": "code",
   "execution_count": null,
   "metadata": {},
   "outputs": [],
   "source": []
  },
  {
   "cell_type": "code",
   "execution_count": null,
   "metadata": {},
   "outputs": [],
   "source": []
  }
 ],
 "metadata": {
  "kernelspec": {
   "display_name": "Python 3",
   "language": "python",
   "name": "python3"
  },
  "language_info": {
   "codemirror_mode": {
    "name": "ipython",
    "version": 3
   },
   "file_extension": ".py",
   "mimetype": "text/x-python",
   "name": "python",
   "nbconvert_exporter": "python",
   "pygments_lexer": "ipython3",
   "version": "3.7.0"
  }
 },
 "nbformat": 4,
 "nbformat_minor": 4
}
