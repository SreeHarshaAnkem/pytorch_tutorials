{
 "cells": [
  {
   "cell_type": "code",
   "execution_count": 227,
   "metadata": {},
   "outputs": [],
   "source": [
    "import numpy as np\n",
    "import pandas as pd\n",
    "\n",
    "%matplotlib inline\n",
    "\n",
    "import matplotlib.pyplot as plt\n",
    "from sklearn.datasets import make_regression\n",
    "from tqdm import tqdm\n",
    "\n",
    "import numpy as np\n",
    "from torch import nn\n",
    "import torch\n",
    "from torch.utils.data import TensorDataset, DataLoader\n",
    "from torch.optim import SGD, Adam\n",
    "\n",
    "%matplotlib inline\n",
    "import matplotlib.pyplot as plt"
   ]
  },
  {
   "cell_type": "code",
   "execution_count": 228,
   "metadata": {},
   "outputs": [],
   "source": [
    "device = \"cuda\" if torch.cuda.is_available() else \"cpu\""
   ]
  },
  {
   "cell_type": "code",
   "execution_count": 247,
   "metadata": {},
   "outputs": [],
   "source": [
    "def generate_data(size, feature_size=1):\n",
    "    \n",
    "    np.random.seed(9)\n",
    "\n",
    "    # Generate random data points between 0 and 1\n",
    "    X = np.random.normal(loc = 0, scale=1, size = (size, feature_size))\n",
    "    # Generate dependent variable by adding random normal noise to X\n",
    "    y = X*2 + 3\n",
    "    \n",
    "    return X, y\n",
    "\n",
    "\n",
    "\n",
    "def scale(X, y=None, X_max=None, y_max=None, fit=True):\n",
    "    if fit:\n",
    "        X_max = np.max(X, axis = 0)\n",
    "        y_max = np.max(y, axis = 0)\n",
    "        \n",
    "        X = X/X_max\n",
    "        y = y/y_max\n",
    "        \n",
    "        return X, y, X_max, y_max\n",
    "    \n",
    "    elif y is not None:\n",
    "        return X/X_max, y/y_max\n",
    "    else:\n",
    "        return X/X_max\n",
    "\n",
    "    \n",
    "    "
   ]
  },
  {
   "cell_type": "code",
   "execution_count": 248,
   "metadata": {},
   "outputs": [
    {
     "name": "stdout",
     "output_type": "stream",
     "text": [
      "(4000, 1) (4000, 1) (1000, 1) (1000, 1)\n"
     ]
    }
   ],
   "source": [
    "X_all, y_all = generate_data(size=5000)\n",
    "\n",
    "\n",
    "from sklearn.model_selection import train_test_split\n",
    "train_X,  test_X, train_y, test_y = train_test_split(X_all, y_all, test_size=0.2, \n",
    "                                                    shuffle=True, random_state=9)\n",
    "print(train_X.shape, train_y.shape, test_X.shape,  test_y.shape)\n",
    "\n",
    "train_X,  train_y, max_X, max_y = scale(train_X,train_y, fit=True)\n",
    "test_X, test_y = scale(test_X, test_y, X_max = max_X, y_max = max_y, fit=False)"
   ]
  },
  {
   "cell_type": "code",
   "execution_count": 249,
   "metadata": {},
   "outputs": [],
   "source": [
    "train_X_t = torch.from_numpy(train_X)\n",
    "train_y_t = torch.from_numpy(train_y)\n",
    "\n",
    "test_X_t = torch.from_numpy(test_X)\n",
    "test_y_t = torch.from_numpy(test_y)"
   ]
  },
  {
   "cell_type": "code",
   "execution_count": 250,
   "metadata": {},
   "outputs": [],
   "source": [
    "# Tensors need to have same length in the first axis. Dataset based on idx. "
   ]
  },
  {
   "cell_type": "code",
   "execution_count": 251,
   "metadata": {},
   "outputs": [],
   "source": [
    "from torch.utils.data import TensorDataset\n",
    "train_dataset = TensorDataset(train_X_t, train_y_t)\n",
    "test_dataset = TensorDataset(test_X_t, test_y_t)"
   ]
  },
  {
   "cell_type": "code",
   "execution_count": 252,
   "metadata": {},
   "outputs": [],
   "source": [
    "from torch.utils.data import DataLoader\n",
    "train_dl = DataLoader(dataset=train_dataset,\n",
    "                    batch_size = 32,\n",
    "                    shuffle = True,\n",
    "                    num_workers = 1\n",
    "                    )\n",
    "test_dl =  DataLoader(dataset=test_dataset,\n",
    "                        batch_size = test_X.shape[0],\n",
    "                        shuffle = True,\n",
    "                        num_workers = 1\n",
    "                        )"
   ]
  },
  {
   "cell_type": "code",
   "execution_count": 253,
   "metadata": {},
   "outputs": [],
   "source": [
    "HIDDEN_UNITS = 32"
   ]
  },
  {
   "cell_type": "code",
   "execution_count": 254,
   "metadata": {},
   "outputs": [],
   "source": [
    "# 1. Model Architecture - Using Sequential\n",
    "model = nn.Sequential(nn.Linear(in_features = train_X.shape[1],out_features = 1, bias=True))\n",
    "model = model.to(device)"
   ]
  },
  {
   "cell_type": "code",
   "execution_count": 255,
   "metadata": {},
   "outputs": [],
   "source": [
    "def fit(epochs, mini_batch_size, learning_rate, iterations, evaluate=False):\n",
    "    \n",
    "   \n",
    "    # 2. Loss\n",
    "    criterion = torch.nn.MSELoss(reduction=\"mean\")\n",
    "\n",
    "    # 3. Optimizer\n",
    "    optimizer = torch.optim.SGD(model.parameters(), lr = 1e-3)\n",
    "\n",
    "    for epoch in range(epochs):\n",
    "        all_loss = 0\n",
    "        model.train()\n",
    "\n",
    "        for batch_X, batch_y in train_dl:\n",
    "\n",
    "             # 1. Forward Propogation\n",
    "            y_pred = model(batch_X.float())\n",
    "            # 2. Compute Loss\n",
    "            loss = criterion(y_pred, batch_y.float())\n",
    "\n",
    "            # 3. Ensure gradients are all zero\n",
    "            optimizer.zero_grad()\n",
    "\n",
    "            # 4. Back Propogate\n",
    "            loss.backward()\n",
    "\n",
    "            #5. Update weights\n",
    "            optimizer.step()\n",
    "\n",
    "            all_loss+=loss.item()\n",
    "\n",
    "        train_epoch_loss = all_loss/(len(train_dl))\n",
    "        if epoch%10 == 0:\n",
    "            print(\"epoch : {}\\tloss : {}\".format(epoch, train_epoch_loss), end = \"\\t\")\n",
    "            model.eval()\n",
    "\n",
    "            if evaluate:\n",
    "                for test_X, test_y in test_dl:\n",
    "                    test_y_pred = model(test_X.float())\n",
    "                    test_loss = criterion(test_y_pred, test_y.float())\n",
    "                    print(\"test loss : {}\".format(test_loss))\n",
    "\n",
    "    return model"
   ]
  },
  {
   "cell_type": "code",
   "execution_count": 256,
   "metadata": {},
   "outputs": [
    {
     "name": "stdout",
     "output_type": "stream",
     "text": [
      "epoch : 0\tloss : 0.07004068422317505\ttest loss : 0.05388103425502777\n",
      "epoch : 10\tloss : 0.0004734717849642038\ttest loss : 0.000366208580089733\n",
      "epoch : 20\tloss : 5.972724888124503e-06\ttest loss : 5.20948651683284e-06\n",
      "epoch : 30\tloss : 2.044203156401636e-06\ttest loss : 1.949961188074667e-06\n",
      "epoch : 40\tloss : 1.4470370092567465e-06\ttest loss : 1.3788505839329446e-06\n",
      "epoch : 50\tloss : 1.0351954056204705e-06\ttest loss : 9.861693115453818e-07\n",
      "epoch : 60\tloss : 7.403888093904243e-07\ttest loss : 7.05295519765059e-07\n",
      "epoch : 70\tloss : 5.296073491081188e-07\ttest loss : 5.044005888521497e-07\n",
      "epoch : 80\tloss : 3.786726465477841e-07\ttest loss : 3.607381131587317e-07\n",
      "epoch : 90\tloss : 2.709106927341054e-07\ttest loss : 2.580179909728031e-07\n"
     ]
    }
   ],
   "source": [
    "fitted_model = fit(epochs = 100, \n",
    "                    mini_batch_size=32, \n",
    "                    learning_rate = 1e-3, \n",
    "                    iterations = train_X.shape[0]/32, \n",
    "                    evaluate=True)"
   ]
  },
  {
   "cell_type": "markdown",
   "metadata": {},
   "source": [
    "# Get Predictions"
   ]
  },
  {
   "cell_type": "code",
   "execution_count": 257,
   "metadata": {},
   "outputs": [],
   "source": [
    "train_y_pred = fitted_model(train_X_t.float()).detach().numpy()\n",
    "test_y_pred = fitted_model(test_X_t.float()).detach().numpy()"
   ]
  },
  {
   "cell_type": "code",
   "execution_count": 258,
   "metadata": {},
   "outputs": [],
   "source": [
    "def plot_predictions(features, y_true, y_pred, title):\n",
    "    sort_index = np.argsort(y_true, axis = 0)\n",
    "    plt.scatter(features[sort_index], y_true[sort_index])\n",
    "\n",
    "    plt.scatter(features[sort_index], y_pred[sort_index])\n",
    "    plt.title(title)"
   ]
  },
  {
   "cell_type": "code",
   "execution_count": 259,
   "metadata": {},
   "outputs": [
    {
     "data": {
      "image/png": "[encoded data removed]",
      "text/plain": [
       "<Figure size 1152x432 with 2 Axes>"
      ]
     },
     "metadata": {
      "needs_background": "light"
     },
     "output_type": "display_data"
    }
   ],
   "source": [
    "fig = plt.figure(figsize = (16, 6))\n",
    "fig.add_subplot(121)\n",
    "plot_predictions(train_X, train_y, train_y_pred, title = \"Train\")\n",
    "fig.add_subplot(122)\n",
    "plot_predictions(test_X, test_y, test_y_pred, title = \"Test\")"
   ]
  },
  {
   "cell_type": "code",
   "execution_count": 260,
   "metadata": {},
   "outputs": [],
   "source": [
    "from sklearn.metrics import r2_score"
   ]
  },
  {
   "cell_type": "code",
   "execution_count": 261,
   "metadata": {},
   "outputs": [],
   "source": [
    "def get_metrics(features, target):\n",
    "    from sklearn.metrics import r2_score\n",
    "    prediction = predict(features, scaled=True)\n",
    "    r2 = r2_score(target, prediction)\n",
    "    print(\"R2 Score: {}\".format(r2))"
   ]
  },
  {
   "cell_type": "code",
   "execution_count": 262,
   "metadata": {},
   "outputs": [
    {
     "name": "stdout",
     "output_type": "stream",
     "text": [
      "Train R2 Score : 0.9999943751202948\n",
      " Test R2 Score : 0.9999943728611114\n"
     ]
    }
   ],
   "source": [
    "print(\"Train R2 Score : {}\".format(r2_score(train_y, train_y_pred)))\n",
    "print(\" Test R2 Score : {}\".format(r2_score(test_y, test_y_pred)))\n"
   ]
  },
  {
   "cell_type": "markdown",
   "metadata": {},
   "source": [
    "# Accessing weights of the model"
   ]
  },
  {
   "cell_type": "code",
   "execution_count": 263,
   "metadata": {},
   "outputs": [],
   "source": [
    "params = dict()\n",
    "for name, param in fitted_model.named_parameters():\n",
    "    params[name] = param.detach().numpy()"
   ]
  },
  {
   "cell_type": "code",
   "execution_count": 264,
   "metadata": {},
   "outputs": [
    {
     "data": {
      "text/plain": [
       "{'0.weight': array([[0.7210454]], dtype=float32),\n",
       " '0.bias': array([0.2772436], dtype=float32)}"
      ]
     },
     "execution_count": 264,
     "metadata": {},
     "output_type": "execute_result"
    }
   ],
   "source": [
    "params"
   ]
  }
 ],
 "metadata": {
  "kernelspec": {
   "display_name": "Python 3",
   "language": "python",
   "name": "python3"
  },
  "language_info": {
   "codemirror_mode": {
    "name": "ipython",
    "version": 3
   },
   "file_extension": ".py",
   "mimetype": "text/x-python",
   "name": "python",
   "nbconvert_exporter": "python",
   "pygments_lexer": "ipython3",
   "version": "3.8.3"
  }
 },
 "nbformat": 4,
 "nbformat_minor": 4
}
